{
 "cells": [
  {
   "cell_type": "code",
   "execution_count": 1,
   "metadata": {},
   "outputs": [],
   "source": [
    "# Set up for running the code\n",
    "import pandas\n",
    "import math\n",
    "import numpy\n",
    "import sklearn\n",
    "from sklearn.model_selection import KFold\n",
    "from sklearn.model_selection import train_test_split\n",
    "from sklearn.neighbors import KNeighborsClassifier\n",
    "from sklearn.linear_model import LogisticRegression\n",
    "from sklearn import metrics\n",
    "import matplotlib.pyplot as plt\n",
    "import nltk\n",
    "from sklearn.feature_extraction.text import TfidfVectorizer\n",
    "from collections import defaultdict\n",
    "from nltk.stem import WordNetLemmatizer\n",
    "from sklearn.feature_extraction.text import TfidfVectorizer\n",
    "from sklearn.svm import SVC\n",
    "from sklearn.model_selection import GridSearchCV\n",
    "from sklearn import ensemble\n",
    "from yellowbrick.classifier import ClassificationReport,ConfusionMatrix\n",
    "from sklearn.naive_bayes import GaussianNB\n",
    "\n",
    "\n",
    "# Read in the data from the CSV file\n",
    "dataframe = pandas.read_csv(\"Crime_Data_from_2020_to_Present.csv\", dtype={'TIME OCC': str})\n"
   ]
  },
  {
   "cell_type": "code",
   "execution_count": 2,
   "metadata": {},
   "outputs": [],
   "source": [
    "# Get only the date in the DATE OCC column\n",
    "dataframe['DATE OCC'] = dataframe['DATE OCC'].str.split().str.get(0)"
   ]
  },
  {
   "cell_type": "code",
   "execution_count": 3,
   "metadata": {},
   "outputs": [],
   "source": [
    "# Trim down the data to only have agregous crimes\n",
    "dataframe.dropna(subset=['Crm Cd'])\n",
    "\n",
    "# Crime codes of violent crimes\n",
    "agregousCrimeCDs = [\n",
    "    231,\n",
    "    230,\n",
    "    624,\n",
    "    622,\n",
    "    623,\n",
    "    860,\n",
    "    110,\n",
    "    753,\n",
    "    822,\n",
    "    921,\n",
    "    882,\n",
    "    910,\n",
    "    920,\n",
    "    113,\n",
    "    625,\n",
    "    122,\n",
    "    121,\n",
    "    251,\n",
    "    250,\n",
    "]\n",
    "\n",
    "col = dataframe[\"Crm Cd\"]\n",
    "\n",
    "# Replace every agregous crimes with a value of 1, the others as 0\n",
    "for cd in pandas.unique(col):\n",
    "    if cd in agregousCrimeCDs:\n",
    "        col = col.replace(cd, 1)\n",
    "    else:\n",
    "        col = col.replace(cd, 0)\n",
    "\n",
    "dataframe[\"Crm Cd\"] = col"
   ]
  },
  {
   "cell_type": "code",
   "execution_count": 4,
   "metadata": {},
   "outputs": [],
   "source": [
    "# Seperate out the date information with seperate columns\n",
    "dataframe['day'] = pandas.to_datetime(dataframe['DATE OCC'], format='%m/%d/%Y').dt.day\n",
    "dataframe['month'] = pandas.to_datetime(dataframe['DATE OCC'], format='%m/%d/%Y').dt.month\n",
    "dataframe['year'] = pandas.to_datetime(dataframe['DATE OCC'], format='%m/%d/%Y').dt.year"
   ]
  },
  {
   "cell_type": "code",
   "execution_count": 5,
   "metadata": {},
   "outputs": [],
   "source": [
    "# Change the TIME OCC column to seperate time columns\n",
    "dataframe['hour'] = pandas.to_datetime(dataframe['TIME OCC'], format='%H%M').dt.hour\n",
    "dataframe['minute'] = pandas.to_datetime(dataframe['TIME OCC'], format='%H%M').dt.minute"
   ]
  },
  {
   "cell_type": "code",
   "execution_count": 6,
   "metadata": {},
   "outputs": [],
   "source": [
    "# Convert sex into: 0 male, 1 female, 2 unkown\n",
    "col = dataframe['Vict Sex']\n",
    "\n",
    "col = col.replace(\"M\", 1)\n",
    "col = col.replace(\"F\", 2)\n",
    "col = col.replace(\"X\", 3)\n",
    "col = col.replace([\"-\", \"H\", math.nan], 0)\n",
    "\n",
    "dataframe['Vict Sex'] = col"
   ]
  },
  {
   "cell_type": "code",
   "execution_count": 7,
   "metadata": {},
   "outputs": [],
   "source": [
    "# convert victim descent\n",
    "# TODO: drop the columns of nan, -, etc\n",
    "col = dataframe['Vict Descent']\n",
    "\n",
    "\"\"\"\n",
    "Descent Code (victim descent information): \n",
    "A - Other Asian - 1\n",
    "B - Black - 2\n",
    "C - Chinese - 3\n",
    "D - Cambodian - 4\n",
    "F - Filipino - 5\n",
    "G - Guamanian - 6\n",
    "H - Hispanic/Latin/Mexican - 7\n",
    "I - American Indian/Alaskan Native - 8\n",
    "J - Japanese - 9\n",
    "K - Korean - 10\n",
    "L - Laotian - 11\n",
    "O - Other - 12\n",
    "P - Pacific Islander - 13\n",
    "S - Samoan - 14\n",
    "U - Hawaiian - 15\n",
    "V - Vietnamese - 16\n",
    "W - White - 17\n",
    "X - Unknown - 0\n",
    "Z - Asian Indian- 18\n",
    "nan - 0\n",
    "-   - 0\n",
    "\"\"\"\n",
    "\n",
    "descentCode = {\n",
    "    \"A\" : 1,\n",
    "    \"B\" : 2,\n",
    "    \"C\" : 3,\n",
    "    \"D\" : 4,\n",
    "    \"F\" : 5,\n",
    "    \"G\" : 6,\n",
    "    \"H\" : 7,\n",
    "    \"I\" : 8,\n",
    "    \"J\" : 9,\n",
    "    \"K\" : 10,\n",
    "    \"L\" : 11,\n",
    "    \"O\" : 12,\n",
    "    \"P\" : 13,\n",
    "    \"S\" : 14,\n",
    "    \"U\" : 15,\n",
    "    \"V\" : 16,\n",
    "    \"W\" : 17,\n",
    "    \"X\" : 0,\n",
    "    \"Z\" : 18,\n",
    "    \"nan\" : 0,\n",
    "    \"-\" : 0\n",
    "}\n",
    "\n",
    "# Replace demographic information with numerical key as descrived above\n",
    "for value, id in descentCode.items():\n",
    "    if id != 0:\n",
    "        col = col.replace(value, id)\n",
    "\n",
    "col = col.replace([\"-\", \"X\", math.nan], 0)\n",
    "\n",
    "dataframe['Vict Descent'] = col"
   ]
  },
  {
   "cell_type": "code",
   "execution_count": 8,
   "metadata": {},
   "outputs": [],
   "source": [
    "# get the sample\n",
    "trainingSet = dataframe.sample(frac=0.8)\n",
    "testingSet = dataframe[~dataframe.index.isin(trainingSet.index)]\n",
    "\n",
    "# Get the training and testing sets\n",
    "# Using the following attributes for training:\n",
    "#   AREA (area code for a given location where the crime occured)\n",
    "#   hour, day, year (times at which the crime occured)\n",
    "#   Vict Sex, Vict Descent (demographic information about the victim)\n",
    "\n",
    "XTrain = trainingSet[['AREA', 'hour', 'Vict Sex', 'day', 'year', 'Vict Descent']]\n",
    "yTrain = trainingSet['Crm Cd']\n",
    "\n",
    "XTest = testingSet[['AREA', 'hour', 'Vict Sex', 'day', 'year', 'Vict Descent']]\n",
    "yTest = testingSet['Crm Cd']\n",
    "\n"
   ]
  },
  {
   "cell_type": "code",
   "execution_count": 9,
   "metadata": {},
   "outputs": [
    {
     "name": "stdout",
     "output_type": "stream",
     "text": [
      "Random Forest Classifier Accuracy:  0.7966199849306623\n"
     ]
    }
   ],
   "source": [
    "# Create the model (RFC)\n",
    "rfcModel = ensemble.RandomForestClassifier()\n",
    "\n",
    "# Train the model\n",
    "rfcModel.fit(XTrain, yTrain)\n",
    "\n",
    "# Make prediction off of test set\n",
    "rfcTestPrediction = rfcModel.predict(XTest)\n",
    "\n",
    "# Calculate accuracy of the test prediction\n",
    "RFCAccuracy = metrics.accuracy_score(rfcTestPrediction, yTest)\n",
    "print(\"Random Forest Classifier Accuracy: \", RFCAccuracy)"
   ]
  },
  {
   "cell_type": "code",
   "execution_count": 10,
   "metadata": {},
   "outputs": [
    {
     "name": "stdout",
     "output_type": "stream",
     "text": [
      "Naive Bays Accuracy:  0.8380046204332746\n"
     ]
    }
   ],
   "source": [
    "# Create the model (Naive Bayes)\n",
    "nbModel = GaussianNB()\n",
    "\n",
    "# Train model\n",
    "nbModel.fit(XTrain, yTrain)\n",
    "\n",
    "# Predict the test set\n",
    "NByPred = nbModel.predict(XTest)\n",
    "\n",
    "# Calculate model accuracy\n",
    "nbAccuracy = metrics.accuracy_score(NByPred, yTest)\n",
    "print(\"Naive Bays Accuracy: \", nbAccuracy)"
   ]
  }
 ],
 "metadata": {
  "kernelspec": {
   "display_name": "DataMining",
   "language": "python",
   "name": "python3"
  },
  "language_info": {
   "codemirror_mode": {
    "name": "ipython",
    "version": 3
   },
   "file_extension": ".py",
   "mimetype": "text/x-python",
   "name": "python",
   "nbconvert_exporter": "python",
   "pygments_lexer": "ipython3",
   "version": "3.10.12"
  }
 },
 "nbformat": 4,
 "nbformat_minor": 2
}
