{
 "cells": [
  {
   "cell_type": "code",
   "execution_count": 1,
   "metadata": {},
   "outputs": [],
   "source": [
    "# Set up for running the code\n",
    "import pandas\n",
    "import math\n",
    "import numpy\n",
    "import sklearn\n",
    "from sklearn.model_selection import KFold\n",
    "from sklearn.model_selection import train_test_split\n",
    "from sklearn.neighbors import KNeighborsClassifier\n",
    "from sklearn.linear_model import LogisticRegression\n",
    "from sklearn import metrics\n",
    "import matplotlib.pyplot as plt\n",
    "import nltk\n",
    "from sklearn.feature_extraction.text import TfidfVectorizer\n",
    "from collections import defaultdict\n",
    "from nltk.stem import WordNetLemmatizer\n",
    "from sklearn.feature_extraction.text import TfidfVectorizer\n",
    "from sklearn.svm import SVC\n",
    "from sklearn.model_selection import GridSearchCV\n",
    "from sklearn import ensemble\n",
    "from yellowbrick.classifier import ClassificationReport,ConfusionMatrix\n",
    "\n",
    "\n",
    "# Read in the data from the CSV file\n",
    "dataframe = pandas.read_csv(\"Crime_Data_from_2020_to_Present.csv\", dtype={'TIME OCC': str})\n"
   ]
  },
  {
   "cell_type": "code",
   "execution_count": 4,
   "metadata": {},
   "outputs": [
    {
     "name": "stdout",
     "output_type": "stream",
     "text": [
      "DR_NO               int64\n",
      "Date Rptd          object\n",
      "DATE OCC           object\n",
      "TIME OCC           object\n",
      "AREA                int64\n",
      "AREA NAME          object\n",
      "Rpt Dist No         int64\n",
      "Part 1-2            int64\n",
      "Crm Cd              int64\n",
      "Crm Cd Desc        object\n",
      "Mocodes            object\n",
      "Vict Age            int64\n",
      "Vict Sex           object\n",
      "Vict Descent       object\n",
      "Premis Cd         float64\n",
      "Premis Desc        object\n",
      "Weapon Used Cd    float64\n",
      "Weapon Desc        object\n",
      "Status             object\n",
      "Status Desc        object\n",
      "Crm Cd 1          float64\n",
      "Crm Cd 2          float64\n",
      "Crm Cd 3          float64\n",
      "Crm Cd 4          float64\n",
      "LOCATION           object\n",
      "Cross Street       object\n",
      "LAT               float64\n",
      "LON               float64\n",
      "dtype: object\n"
     ]
    }
   ],
   "source": [
    "print(dataframe.dtypes)"
   ]
  },
  {
   "cell_type": "code",
   "execution_count": 2,
   "metadata": {},
   "outputs": [],
   "source": [
    "# Get only the date in the DATE OCC column\n",
    "dataframe['DATE OCC'] = dataframe['DATE OCC'].str.split().str.get(0)"
   ]
  },
  {
   "cell_type": "code",
   "execution_count": 3,
   "metadata": {},
   "outputs": [],
   "source": [
    "# Trim down the data to only have agregous crimes\n",
    "\n",
    "dataframe.dropna(subset=['Crm Cd'])\n",
    "\n",
    "agregousCrimeCDs = [\n",
    "    231,\n",
    "    230,\n",
    "    624,\n",
    "    622,\n",
    "    623,\n",
    "    860,\n",
    "    110,\n",
    "    753,\n",
    "    822,\n",
    "    921,\n",
    "    882,\n",
    "    910,\n",
    "    920,\n",
    "    113,\n",
    "    625,\n",
    "    122,\n",
    "    121,\n",
    "    251,\n",
    "    250,\n",
    "]\n",
    "\n",
    "col = dataframe[\"Crm Cd\"]\n",
    "\n",
    "for cd in pandas.unique(col):\n",
    "    if cd in agregousCrimeCDs:\n",
    "        col = col.replace(cd, 1)\n",
    "    else:\n",
    "        col = col.replace(cd, 0)\n",
    "\n",
    "dataframe[\"Crm Cd\"] = col"
   ]
  },
  {
   "cell_type": "code",
   "execution_count": 9,
   "metadata": {},
   "outputs": [],
   "source": [
    "# Change the type of the column to date\n",
    "dataframe['day'] = pandas.to_datetime(dataframe['DATE OCC'], format='%m/%d/%Y').dt.day\n",
    "dataframe['month'] = pandas.to_datetime(dataframe['DATE OCC'], format='%m/%d/%Y').dt.month\n",
    "dataframe['year'] = pandas.to_datetime(dataframe['DATE OCC'], format='%m/%d/%Y').dt.year"
   ]
  },
  {
   "cell_type": "code",
   "execution_count": 10,
   "metadata": {},
   "outputs": [],
   "source": [
    "# Change the TIME OCC column to time\n",
    "dataframe['hour'] = pandas.to_datetime(dataframe['TIME OCC'], format='%H%M').dt.hour\n",
    "dataframe['minute'] = pandas.to_datetime(dataframe['TIME OCC'], format='%H%M').dt.minute"
   ]
  },
  {
   "cell_type": "code",
   "execution_count": 11,
   "metadata": {},
   "outputs": [],
   "source": [
    "# Convert sex into: 0 male, 1 female, 2 unkown\n",
    "col = dataframe['Vict Sex']\n",
    "\n",
    "col = col.replace(\"M\", 1)\n",
    "col = col.replace(\"F\", 2)\n",
    "col = col.replace(\"X\", 3)\n",
    "col = col.replace([\"-\", \"H\", math.nan], 0)\n",
    "\n",
    "dataframe['Vict Sex'] = col"
   ]
  },
  {
   "cell_type": "code",
   "execution_count": 12,
   "metadata": {},
   "outputs": [],
   "source": [
    "# convert victim descent\n",
    "# TODO: drop the columns of nan, -, etc\n",
    "col = dataframe['Vict Descent']\n",
    "\n",
    "\"\"\"\n",
    "Descent Code: \n",
    "A - Other Asian - 1\n",
    "B - Black - 2\n",
    "C - Chinese - 3\n",
    "D - Cambodian - 4\n",
    "F - Filipino - 5\n",
    "G - Guamanian - 6\n",
    "H - Hispanic/Latin/Mexican - 7\n",
    "I - American Indian/Alaskan Native - 8\n",
    "J - Japanese - 9\n",
    "K - Korean - 10\n",
    "L - Laotian - 11\n",
    "O - Other - 12\n",
    "P - Pacific Islander - 13\n",
    "S - Samoan - 14\n",
    "U - Hawaiian - 15\n",
    "V - Vietnamese - 16\n",
    "W - White - 17\n",
    "X - Unknown - 0\n",
    "Z - Asian Indian- 18\n",
    "nan - 0\n",
    "-   - 0\n",
    "\"\"\"\n",
    "\n",
    "descentCode = {\n",
    "    \"A\" : 1,\n",
    "    \"B\" : 2,\n",
    "    \"C\" : 3,\n",
    "    \"D\" : 4,\n",
    "    \"F\" : 5,\n",
    "    \"G\" : 6,\n",
    "    \"H\" : 7,\n",
    "    \"I\" : 8,\n",
    "    \"J\" : 9,\n",
    "    \"K\" : 10,\n",
    "    \"L\" : 11,\n",
    "    \"O\" : 12,\n",
    "    \"P\" : 13,\n",
    "    \"S\" : 14,\n",
    "    \"U\" : 15,\n",
    "    \"V\" : 16,\n",
    "    \"W\" : 17,\n",
    "    \"X\" : 0,\n",
    "    \"Z\" : 18,\n",
    "    \"nan\" : 0,\n",
    "    \"-\" : 0\n",
    "}\n",
    "\n",
    "for value, id in descentCode.items():\n",
    "    if id != 0:\n",
    "        col = col.replace(value, id)\n",
    "\n",
    "col = col.replace([\"-\", \"X\", math.nan], 0)\n",
    "\n",
    "dataframe['Vict Descent'] = col"
   ]
  },
  {
   "cell_type": "code",
   "execution_count": 18,
   "metadata": {},
   "outputs": [],
   "source": [
    "# get the sample\n",
    "trainingSet = dataframe.sample(frac=0.8)\n",
    "testingSet = dataframe[~dataframe.index.isin(trainingSet.index)]\n",
    "\n",
    "\n",
    "# XTrain = trainingSet[['AREA', 'DATE OCC', 'hour', 'minute']]\n",
    "# XTrain = trainingSet[['AREA', 'hour', 'Vict Sex', 'Vict Descent', 'day', 'year']]\n",
    "XTrain = trainingSet[['AREA', 'hour', 'Vict Sex', 'day', 'year']]\n",
    "yTrain = trainingSet['Crm Cd']\n",
    "\n",
    "# XTest = trainingSet[['AREA', 'DATE OCC', 'hour', 'minute']]\n",
    "XTest = testingSet[['AREA', 'hour', 'Vict Sex', 'day', 'year']]\n",
    "yTest = testingSet['Crm Cd']\n",
    "\n"
   ]
  },
  {
   "cell_type": "code",
   "execution_count": 19,
   "metadata": {},
   "outputs": [
    {
     "data": {
      "text/html": [
       "<style>#sk-container-id-1 {color: black;background-color: white;}#sk-container-id-1 pre{padding: 0;}#sk-container-id-1 div.sk-toggleable {background-color: white;}#sk-container-id-1 label.sk-toggleable__label {cursor: pointer;display: block;width: 100%;margin-bottom: 0;padding: 0.3em;box-sizing: border-box;text-align: center;}#sk-container-id-1 label.sk-toggleable__label-arrow:before {content: \"▸\";float: left;margin-right: 0.25em;color: #696969;}#sk-container-id-1 label.sk-toggleable__label-arrow:hover:before {color: black;}#sk-container-id-1 div.sk-estimator:hover label.sk-toggleable__label-arrow:before {color: black;}#sk-container-id-1 div.sk-toggleable__content {max-height: 0;max-width: 0;overflow: hidden;text-align: left;background-color: #f0f8ff;}#sk-container-id-1 div.sk-toggleable__content pre {margin: 0.2em;color: black;border-radius: 0.25em;background-color: #f0f8ff;}#sk-container-id-1 input.sk-toggleable__control:checked~div.sk-toggleable__content {max-height: 200px;max-width: 100%;overflow: auto;}#sk-container-id-1 input.sk-toggleable__control:checked~label.sk-toggleable__label-arrow:before {content: \"▾\";}#sk-container-id-1 div.sk-estimator input.sk-toggleable__control:checked~label.sk-toggleable__label {background-color: #d4ebff;}#sk-container-id-1 div.sk-label input.sk-toggleable__control:checked~label.sk-toggleable__label {background-color: #d4ebff;}#sk-container-id-1 input.sk-hidden--visually {border: 0;clip: rect(1px 1px 1px 1px);clip: rect(1px, 1px, 1px, 1px);height: 1px;margin: -1px;overflow: hidden;padding: 0;position: absolute;width: 1px;}#sk-container-id-1 div.sk-estimator {font-family: monospace;background-color: #f0f8ff;border: 1px dotted black;border-radius: 0.25em;box-sizing: border-box;margin-bottom: 0.5em;}#sk-container-id-1 div.sk-estimator:hover {background-color: #d4ebff;}#sk-container-id-1 div.sk-parallel-item::after {content: \"\";width: 100%;border-bottom: 1px solid gray;flex-grow: 1;}#sk-container-id-1 div.sk-label:hover label.sk-toggleable__label {background-color: #d4ebff;}#sk-container-id-1 div.sk-serial::before {content: \"\";position: absolute;border-left: 1px solid gray;box-sizing: border-box;top: 0;bottom: 0;left: 50%;z-index: 0;}#sk-container-id-1 div.sk-serial {display: flex;flex-direction: column;align-items: center;background-color: white;padding-right: 0.2em;padding-left: 0.2em;position: relative;}#sk-container-id-1 div.sk-item {position: relative;z-index: 1;}#sk-container-id-1 div.sk-parallel {display: flex;align-items: stretch;justify-content: center;background-color: white;position: relative;}#sk-container-id-1 div.sk-item::before, #sk-container-id-1 div.sk-parallel-item::before {content: \"\";position: absolute;border-left: 1px solid gray;box-sizing: border-box;top: 0;bottom: 0;left: 50%;z-index: -1;}#sk-container-id-1 div.sk-parallel-item {display: flex;flex-direction: column;z-index: 1;position: relative;background-color: white;}#sk-container-id-1 div.sk-parallel-item:first-child::after {align-self: flex-end;width: 50%;}#sk-container-id-1 div.sk-parallel-item:last-child::after {align-self: flex-start;width: 50%;}#sk-container-id-1 div.sk-parallel-item:only-child::after {width: 0;}#sk-container-id-1 div.sk-dashed-wrapped {border: 1px dashed gray;margin: 0 0.4em 0.5em 0.4em;box-sizing: border-box;padding-bottom: 0.4em;background-color: white;}#sk-container-id-1 div.sk-label label {font-family: monospace;font-weight: bold;display: inline-block;line-height: 1.2em;}#sk-container-id-1 div.sk-label-container {text-align: center;}#sk-container-id-1 div.sk-container {/* jupyter's `normalize.less` sets `[hidden] { display: none; }` but bootstrap.min.css set `[hidden] { display: none !important; }` so we also need the `!important` here to be able to override the default hidden behavior on the sphinx rendered scikit-learn.org. See: https://github.com/scikit-learn/scikit-learn/issues/21755 */display: inline-block !important;position: relative;}#sk-container-id-1 div.sk-text-repr-fallback {display: none;}</style><div id=\"sk-container-id-1\" class=\"sk-top-container\"><div class=\"sk-text-repr-fallback\"><pre>RandomForestClassifier()</pre><b>In a Jupyter environment, please rerun this cell to show the HTML representation or trust the notebook. <br />On GitHub, the HTML representation is unable to render, please try loading this page with nbviewer.org.</b></div><div class=\"sk-container\" hidden><div class=\"sk-item\"><div class=\"sk-estimator sk-toggleable\"><input class=\"sk-toggleable__control sk-hidden--visually\" id=\"sk-estimator-id-1\" type=\"checkbox\" checked><label for=\"sk-estimator-id-1\" class=\"sk-toggleable__label sk-toggleable__label-arrow\">RandomForestClassifier</label><div class=\"sk-toggleable__content\"><pre>RandomForestClassifier()</pre></div></div></div></div></div>"
      ],
      "text/plain": [
       "RandomForestClassifier()"
      ]
     },
     "execution_count": 19,
     "metadata": {},
     "output_type": "execute_result"
    }
   ],
   "source": [
    "# Create the model\n",
    "\n",
    "rfcModel = ensemble.RandomForestClassifier()\n",
    "rfcModel.fit(XTrain, yTrain)\n",
    "# dataframe['DATE OCC']"
   ]
  },
  {
   "cell_type": "code",
   "execution_count": 20,
   "metadata": {},
   "outputs": [],
   "source": [
    "rfcTestPrediction = rfcModel.predict(XTest)"
   ]
  },
  {
   "cell_type": "code",
   "execution_count": 22,
   "metadata": {},
   "outputs": [
    {
     "name": "stdout",
     "output_type": "stream",
     "text": [
      "0.5016384697454657\n"
     ]
    }
   ],
   "source": [
    "RFCAccuracy = metrics.accuracy_score(yTest, rfcTestPrediction)\n",
    "print(RFCAccuracy)"
   ]
  },
  {
   "cell_type": "code",
   "execution_count": null,
   "metadata": {},
   "outputs": [],
   "source": []
  }
 ],
 "metadata": {
  "kernelspec": {
   "display_name": "DataMining",
   "language": "python",
   "name": "python3"
  },
  "language_info": {
   "codemirror_mode": {
    "name": "ipython",
    "version": 3
   },
   "file_extension": ".py",
   "mimetype": "text/x-python",
   "name": "python",
   "nbconvert_exporter": "python",
   "pygments_lexer": "ipython3",
   "version": "3.10.12"
  }
 },
 "nbformat": 4,
 "nbformat_minor": 2
}
